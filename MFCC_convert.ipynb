{
 "cells": [
  {
   "cell_type": "markdown",
   "metadata": {},
   "source": [
    "## This notebook is for creating the HDF5 from raw audio dataset."
   ]
  },
  {
   "cell_type": "code",
   "execution_count": 7,
   "metadata": {},
   "outputs": [],
   "source": [
    "%reload_ext autoreload\n",
    "%autoreload 2\n",
    "import datacollector"
   ]
  },
  {
   "cell_type": "markdown",
   "metadata": {},
   "source": [
    "#### Dataset : Path where raw dataset is stored.\n",
    "#### DataConfig : Store the metadata about the data stored in HDF5 file.\n",
    "#### HdfFile : Store the MFCC features of the every raw audio file  \n"
   ]
  },
  {
   "cell_type": "code",
   "execution_count": 8,
   "metadata": {},
   "outputs": [],
   "source": [
    "DataConfig=\"/home/himanshu/Desktop/Semester_6/ML/project/dataset/test.json\"\n",
    "Dataset=\"/home/himanshu/Desktop/Semester_6/ML/project/dataset/My_dataset\"\n",
    "HdfDataFile=\"/home/himanshu/Desktop/Semester_6/ML/project/dataset/test.hdf5\""
   ]
  },
  {
   "cell_type": "code",
   "execution_count": 9,
   "metadata": {},
   "outputs": [
    {
     "name": "stdout",
     "output_type": "stream",
     "text": [
      "Data Configuration file do not exist at the given location.\n",
      "New Dataset will be created\n",
      "If you would like to create a new one then enter Y else N\n",
      "Y\n",
      "Files created\n",
      "Adding all the languages present in folder /home/himanshu/Desktop/Semester_6/ML/project/dataset/My_dataset\n",
      "Adding  German\n",
      "Added  German\n",
      "Adding  English\n",
      "Added  English\n",
      "Adding  Spanish\n",
      "Added  Spanish\n",
      "All langauges present added in hdf5_file\n",
      "Language :  German\n",
      "Label :  0\n",
      "Language :  English\n",
      "Label :  1\n",
      "Language :  Spanish\n",
      "Label :  2\n"
     ]
    }
   ],
   "source": [
    "fe=datacollector.FeatureExtractor(Dataset,HdfDataFile,DataConfig)\n",
    "fe.add_all_present()\n",
    "fe.get_language_data()"
   ]
  },
  {
   "cell_type": "code",
   "execution_count": null,
   "metadata": {},
   "outputs": [],
   "source": []
  }
 ],
 "metadata": {
  "kernelspec": {
   "display_name": "Python 3",
   "language": "python",
   "name": "python3"
  },
  "language_info": {
   "codemirror_mode": {
    "name": "ipython",
    "version": 3
   },
   "file_extension": ".py",
   "mimetype": "text/x-python",
   "name": "python",
   "nbconvert_exporter": "python",
   "pygments_lexer": "ipython3",
   "version": "3.8.5"
  }
 },
 "nbformat": 4,
 "nbformat_minor": 4
}
